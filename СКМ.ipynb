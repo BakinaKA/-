{
 "cells": [
  {
   "cell_type": "markdown",
   "metadata": {},
   "source": [
    "22)Скорость сходимости метода ньютона  \n",
    "Постановка задачи  \n",
    "Применить метод Ньютона scipy.optimize.newton к решению каждого из уравнений $(x-1)^{2}=0$. и $e^{2x}-2e^{x}+1=0$. Показать экспериментально(построить график зависимости ошибки от номера шага), что итерации сходятся линейно, а не квадратично. Попробовать доказать это теоретически."
   ]
  },
  {
   "cell_type": "markdown",
   "metadata": {},
   "source": [
    "Уравнение первое  \n",
    "С определённой итерации становится невозможным вычислить более близкое к ответу значение, так как машинной точности становится недостаточно. График с этой итерации становится прямой, параллельной оси Ох, это значит метод Ньютона сошёлся."
   ]
  },
  {
   "cell_type": "code",
   "execution_count": 6,
   "metadata": {},
   "outputs": [
    {
     "data": {
      "image/png": "[encoded data removed]",
      "text/plain": [
       "<Figure size 432x288 with 1 Axes>"
      ]
     },
     "metadata": {
      "needs_background": "light"
     },
     "output_type": "display_data"
    }
   ],
   "source": [
    "import numpy as np \n",
    "from scipy import optimize \n",
    "import matplotlib.pyplot as plt \n",
    "\n",
    "def f(x): \n",
    "    return (x-1)**2 \n",
    "\n",
    "x=[] \n",
    "iv=np.arange(1,300,1)#массив количества итераций \n",
    "for i in iv: \n",
    "    r=optimize.newton(f,2, maxiter=i,disp=0)#начальное значение = 2,i максимальное количество итераций\n",
    "    r=r-1#Вычислим корень уравнения аналитически для построения графика, он равен 1, вычтем его,чтобы получить ошибку \n",
    "    x.append(r) \n",
    "\n",
    "plt.plot(iv,x, 'b')\n",
    "#После этого строим график, по нему видно, что итерации сходятся линейно.\n",
    "plt.xlabel('номер шага')\n",
    "plt.ylabel('ошибка')\n",
    "pass"
   ]
  },
  {
   "cell_type": "markdown",
   "metadata": {},
   "source": [
    "Уравнение второе  \n",
    "С определённой итерации становится невозможным вычислить более близкое к ответу значение, так как машинной точности становится недостаточно. График с этой итерации становится прямой, параллельной оси Ох, это значит метод Ньютона сошёлся."
   ]
  },
  {
   "cell_type": "code",
   "execution_count": 4,
   "metadata": {},
   "outputs": [
    {
     "data": {
      "text/plain": [
       "Text(0, 0.5, 'ошибка')"
      ]
     },
     "execution_count": 4,
     "metadata": {},
     "output_type": "execute_result"
    },
    {
     "data": {
      "image/png": "[encoded data removed]",
      "text/plain": [
       "<Figure size 432x288 with 1 Axes>"
      ]
     },
     "metadata": {
      "needs_background": "light"
     },
     "output_type": "display_data"
    }
   ],
   "source": [
    "import numpy as np \n",
    "import math\n",
    "from scipy import optimize \n",
    "import matplotlib.pyplot as plt \n",
    "def f1(x): \n",
    "    return (math.exp(x)-1)**2 \n",
    "\n",
    "\n",
    "x0 = [] \n",
    "iv = np.arange(1,300,1)#массив количества итераций   \n",
    "\n",
    "for i in iv: \n",
    "    r=optimize.newton(f1,1, maxiter=i,disp=0)#начальное значение = 1,i максимальное количество итераций \n",
    "    #Вычислим корень уравнения аналитически для построения графика, он равен 0,чтобы получить ошибку нет необходимости его вычитать\n",
    "    x0.append(r) \n",
    "\n",
    "plt.plot(iv,x0,'b')\n",
    "#После этого строим график, по нему видно, что итерации сходятся линейно.\n",
    "plt.xlabel('номер шага')\n",
    "plt.ylabel('ошибка')"
   ]
  },
  {
   "cell_type": "markdown",
   "metadata": {},
   "source": [
    "Экспериментально мы доказали, что итерации сходятся в обоих этих уравнениях сходятся линейно, а не квадратично. Теперь попробуем доказать это теоретически."
   ]
  },
  {
   "cell_type": "markdown",
   "metadata": {},
   "source": [
    "Теорема о сходимости метода Ньютона  \n",
    "Пусть корень уравнения f(x) = 0 отделен на отрезке $[a;b]$ (функция f(x)\n",
    "непрерывна на $[a;b]$ и на концах его принимает разные знаки), а производные\n",
    "$f'(x)$ и $f''(x)$ отличны от нуля и сохраняют постоянные знаки на $[a;b]$. Тогда,\n",
    "если выбрать начальное приближение х0 $[a;b]$ так, чтобы $f'(x0) ∙ f''(x0) > 0$, то\n",
    "последовательность приближений, определяемая формулой\n",
    "$$\n",
    "x_{n}=x_{n-1}-\\frac{f(x_{n-1})}{f'(x_{n-1})}\n",
    "$$\n",
    "сходится.\n",
    "Вычислим скорость сходимости для каждого их уравнений $$(x-1)^{2}=0$$ и $$e^{2x}-2e^{x}+1=0$$\n",
    "Скорость сходимости-степень приближения к точному решению на каждой итерации.  \n",
    "Для первого уравнения:  \n",
    "$$f(x)=(x-1)^{2}$$  \n",
    "$$f'(x)=2x-2$$  \n",
    "$$x-\\frac{f(x)}{f'(x)}=x-\\frac{(x-1)^{2}}{(2x-2)}=\\frac{(x-1)}{2}$$  \n",
    "Эта функция линейна, а значит и итерации сходятся линейно."
   ]
  },
  {
   "cell_type": "code",
   "execution_count": 21,
   "metadata": {},
   "outputs": [
    {
     "data": {
      "text/plain": [
       "[<matplotlib.lines.Line2D at 0x1c7e3ec7488>]"
      ]
     },
     "execution_count": 21,
     "metadata": {},
     "output_type": "execute_result"
    },
    {
     "data": {
      "image/png": "[encoded data removed]",
      "text/plain": [
       "<Figure size 432x288 with 1 Axes>"
      ]
     },
     "metadata": {
      "needs_background": "light"
     },
     "output_type": "display_data"
    }
   ],
   "source": [
    "import numpy as np \n",
    "import math\n",
    "import matplotlib.pyplot as plt\n",
    "%matplotlib inline\n",
    "\n",
    "y=[]\n",
    "x=np.arange(0,5,0.5)\n",
    "def f(x): \n",
    "    return (x-1)/2 \n",
    "for x1 in x:\n",
    "    y.append(f(x1))\n",
    "\n",
    "plt.plot(x,y,'b')    "
   ]
  },
  {
   "cell_type": "markdown",
   "metadata": {},
   "source": [
    "Для второго уравненя:  \n",
    "$$f(x)=e^{2x}-2e^{x}+1$$  \n",
    "$$f(x)=2e^{2x}-2e^{x}$$  \n",
    "$$x-\\frac{f(x)}{f'(x)}=x-\\frac{(e^{2x}-2e^{x}+1)}{(2e^{2x}-2e^{x})}=x-\\frac{1}{e^{x}}-\\frac{1}{2}$$  \n",
    "По графику видно, что итерации сходятся линейно. Что и требовалось доказать."
   ]
  },
  {
   "cell_type": "code",
   "execution_count": 20,
   "metadata": {},
   "outputs": [
    {
     "data": {
      "text/plain": [
       "[<matplotlib.lines.Line2D at 0x1c7e3e57f88>]"
      ]
     },
     "execution_count": 20,
     "metadata": {},
     "output_type": "execute_result"
    },
    {
     "data": {
      "image/png": "[encoded data removed]",
      "text/plain": [
       "<Figure size 432x288 with 1 Axes>"
      ]
     },
     "metadata": {
      "needs_background": "light"
     },
     "output_type": "display_data"
    }
   ],
   "source": [
    "import numpy as np \n",
    "import math\n",
    "import matplotlib.pyplot as plt\n",
    "%matplotlib inline\n",
    "\n",
    "y=[]\n",
    "x=np.arange(0,5,0.5)\n",
    "def f(x): \n",
    "    return x-(math.exp(x)-1)/(2*math.exp(x)) \n",
    "for x1 in x:\n",
    "    y.append(f(x1))\n",
    "\n",
    "plt.plot(x,y,'b')    "
   ]
  },
  {
   "cell_type": "markdown",
   "metadata": {},
   "source": [
    "Вывод: и в первом,и во втором случае итерации сходятся линейно, что доказано и экспериментально, и теоретически."
   ]
  }
 ],
 "metadata": {
  "kernelspec": {
   "display_name": "Python 3",
   "language": "python",
   "name": "python3"
  },
  "language_info": {
   "codemirror_mode": {
    "name": "ipython",
    "version": 3
   },
   "file_extension": ".py",
   "mimetype": "text/x-python",
   "name": "python",
   "nbconvert_exporter": "python",
   "pygments_lexer": "ipython3",
   "version": "3.7.6"
  }
 },
 "nbformat": 4,
 "nbformat_minor": 4
}
